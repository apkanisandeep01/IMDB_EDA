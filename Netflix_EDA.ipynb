{
 "cells": [
  {
   "cell_type": "code",
   "execution_count": 2,
   "metadata": {},
   "outputs": [],
   "source": [
    "import numpy as np\n",
    "import pandas as pd\n",
    "import matplotlib.pyplot as plt\n",
    "import seaborn as sns"
   ]
  },
  {
   "cell_type": "code",
   "execution_count": 3,
   "metadata": {},
   "outputs": [],
   "source": [
    "file_path = r\"C:\\Users\\admin\\Downloads\\Netflix.csv.csv\""
   ]
  },
  {
   "cell_type": "code",
   "execution_count": 4,
   "metadata": {
    "colab": {
     "base_uri": "https://localhost:8080/",
     "height": 287
    },
    "id": "e19BeChIGENL",
    "outputId": "20596893-2b1c-4256-a65d-46f8f897cfac"
   },
   "outputs": [],
   "source": [
    "df_movies = pd.read_csv(file_path)"
   ]
  },
  {
   "cell_type": "code",
   "execution_count": 5,
   "metadata": {
    "id": "nig_65t6GENL"
   },
   "outputs": [
    {
     "data": {
      "text/html": [
       "<div>\n",
       "<style scoped>\n",
       "    .dataframe tbody tr th:only-of-type {\n",
       "        vertical-align: middle;\n",
       "    }\n",
       "\n",
       "    .dataframe tbody tr th {\n",
       "        vertical-align: top;\n",
       "    }\n",
       "\n",
       "    .dataframe thead th {\n",
       "        text-align: right;\n",
       "    }\n",
       "</style>\n",
       "<table border=\"1\" class=\"dataframe\">\n",
       "  <thead>\n",
       "    <tr style=\"text-align: right;\">\n",
       "      <th></th>\n",
       "      <th>show_id</th>\n",
       "      <th>type</th>\n",
       "      <th>title</th>\n",
       "      <th>director</th>\n",
       "      <th>cast</th>\n",
       "      <th>country</th>\n",
       "      <th>date_added</th>\n",
       "      <th>release_year</th>\n",
       "      <th>rating</th>\n",
       "      <th>duration</th>\n",
       "      <th>listed_in</th>\n",
       "      <th>description</th>\n",
       "    </tr>\n",
       "  </thead>\n",
       "  <tbody>\n",
       "    <tr>\n",
       "      <th>0</th>\n",
       "      <td>s1</td>\n",
       "      <td>Movie</td>\n",
       "      <td>Dick Johnson Is Dead</td>\n",
       "      <td>Kirsten Johnson</td>\n",
       "      <td>NaN</td>\n",
       "      <td>United States</td>\n",
       "      <td>25-Sep-21</td>\n",
       "      <td>2020</td>\n",
       "      <td>PG-13</td>\n",
       "      <td>90 min</td>\n",
       "      <td>Documentaries</td>\n",
       "      <td>As her father nears the end of his life, filmm...</td>\n",
       "    </tr>\n",
       "    <tr>\n",
       "      <th>1</th>\n",
       "      <td>s2</td>\n",
       "      <td>TV Show</td>\n",
       "      <td>Blood &amp; Water</td>\n",
       "      <td>NaN</td>\n",
       "      <td>Ama Qamata, Khosi Ngema, Gail Mabalane, Thaban...</td>\n",
       "      <td>South Africa</td>\n",
       "      <td>24-Sep-21</td>\n",
       "      <td>2021</td>\n",
       "      <td>TV-MA</td>\n",
       "      <td>2 Seasons</td>\n",
       "      <td>International TV Shows, TV Dramas, TV Mysteries</td>\n",
       "      <td>After crossing paths at a party, a Cape Town t...</td>\n",
       "    </tr>\n",
       "    <tr>\n",
       "      <th>2</th>\n",
       "      <td>s3</td>\n",
       "      <td>TV Show</td>\n",
       "      <td>Ganglands</td>\n",
       "      <td>Julien Leclercq</td>\n",
       "      <td>Sami Bouajila, Tracy Gotoas, Samuel Jouy, Nabi...</td>\n",
       "      <td>NaN</td>\n",
       "      <td>24-Sep-21</td>\n",
       "      <td>2021</td>\n",
       "      <td>TV-MA</td>\n",
       "      <td>1 Season</td>\n",
       "      <td>Crime TV Shows, International TV Shows, TV Act...</td>\n",
       "      <td>To protect his family from a powerful drug lor...</td>\n",
       "    </tr>\n",
       "    <tr>\n",
       "      <th>3</th>\n",
       "      <td>s4</td>\n",
       "      <td>TV Show</td>\n",
       "      <td>Jailbirds New Orleans</td>\n",
       "      <td>NaN</td>\n",
       "      <td>NaN</td>\n",
       "      <td>NaN</td>\n",
       "      <td>24-Sep-21</td>\n",
       "      <td>2021</td>\n",
       "      <td>TV-MA</td>\n",
       "      <td>1 Season</td>\n",
       "      <td>Docuseries, Reality TV</td>\n",
       "      <td>Feuds, flirtations and toilet talk go down amo...</td>\n",
       "    </tr>\n",
       "    <tr>\n",
       "      <th>4</th>\n",
       "      <td>s5</td>\n",
       "      <td>TV Show</td>\n",
       "      <td>Kota Factory</td>\n",
       "      <td>NaN</td>\n",
       "      <td>Mayur More, Jitendra Kumar, Ranjan Raj, Alam K...</td>\n",
       "      <td>India</td>\n",
       "      <td>24-Sep-21</td>\n",
       "      <td>2021</td>\n",
       "      <td>TV-MA</td>\n",
       "      <td>2 Seasons</td>\n",
       "      <td>International TV Shows, Romantic TV Shows, TV ...</td>\n",
       "      <td>In a city of coaching centers known to train I...</td>\n",
       "    </tr>\n",
       "  </tbody>\n",
       "</table>\n",
       "</div>"
      ],
      "text/plain": [
       "  show_id     type                  title         director  \\\n",
       "0      s1    Movie   Dick Johnson Is Dead  Kirsten Johnson   \n",
       "1      s2  TV Show          Blood & Water              NaN   \n",
       "2      s3  TV Show              Ganglands  Julien Leclercq   \n",
       "3      s4  TV Show  Jailbirds New Orleans              NaN   \n",
       "4      s5  TV Show           Kota Factory              NaN   \n",
       "\n",
       "                                                cast        country  \\\n",
       "0                                                NaN  United States   \n",
       "1  Ama Qamata, Khosi Ngema, Gail Mabalane, Thaban...   South Africa   \n",
       "2  Sami Bouajila, Tracy Gotoas, Samuel Jouy, Nabi...            NaN   \n",
       "3                                                NaN            NaN   \n",
       "4  Mayur More, Jitendra Kumar, Ranjan Raj, Alam K...          India   \n",
       "\n",
       "  date_added  release_year rating   duration  \\\n",
       "0  25-Sep-21          2020  PG-13     90 min   \n",
       "1  24-Sep-21          2021  TV-MA  2 Seasons   \n",
       "2  24-Sep-21          2021  TV-MA   1 Season   \n",
       "3  24-Sep-21          2021  TV-MA   1 Season   \n",
       "4  24-Sep-21          2021  TV-MA  2 Seasons   \n",
       "\n",
       "                                           listed_in  \\\n",
       "0                                      Documentaries   \n",
       "1    International TV Shows, TV Dramas, TV Mysteries   \n",
       "2  Crime TV Shows, International TV Shows, TV Act...   \n",
       "3                             Docuseries, Reality TV   \n",
       "4  International TV Shows, Romantic TV Shows, TV ...   \n",
       "\n",
       "                                         description  \n",
       "0  As her father nears the end of his life, filmm...  \n",
       "1  After crossing paths at a party, a Cape Town t...  \n",
       "2  To protect his family from a powerful drug lor...  \n",
       "3  Feuds, flirtations and toilet talk go down amo...  \n",
       "4  In a city of coaching centers known to train I...  "
      ]
     },
     "execution_count": 5,
     "metadata": {},
     "output_type": "execute_result"
    }
   ],
   "source": [
    "df_movies.head()"
   ]
  },
  {
   "cell_type": "code",
   "execution_count": null,
   "metadata": {
    "execution": {
     "iopub.execute_input": "2025-03-23T17:15:30.116637Z",
     "iopub.status.busy": "2025-03-23T17:15:30.116165Z",
     "iopub.status.idle": "2025-03-23T17:15:30.123394Z",
     "shell.execute_reply": "2025-03-23T17:15:30.122208Z",
     "shell.execute_reply.started": "2025-03-23T17:15:30.116596Z"
    },
    "id": "ypoyMsO2GENL"
   },
   "outputs": [],
   "source": [
    "df_movies.shape"
   ]
  },
  {
   "cell_type": "code",
   "execution_count": null,
   "metadata": {
    "execution": {
     "iopub.execute_input": "2025-03-23T17:15:17.449258Z",
     "iopub.status.busy": "2025-03-23T17:15:17.448895Z",
     "iopub.status.idle": "2025-03-23T17:15:17.477788Z",
     "shell.execute_reply": "2025-03-23T17:15:17.476824Z",
     "shell.execute_reply.started": "2025-03-23T17:15:17.449211Z"
    },
    "id": "nkF0El8sGENM"
   },
   "outputs": [],
   "source": [
    "df_movies.info()"
   ]
  },
  {
   "cell_type": "code",
   "execution_count": null,
   "metadata": {
    "execution": {
     "iopub.execute_input": "2025-03-23T17:15:34.313569Z",
     "iopub.status.busy": "2025-03-23T17:15:34.313248Z",
     "iopub.status.idle": "2025-03-23T17:15:34.368766Z",
     "shell.execute_reply": "2025-03-23T17:15:34.367853Z",
     "shell.execute_reply.started": "2025-03-23T17:15:34.313545Z"
    },
    "id": "Dqw9YXiqGENM"
   },
   "outputs": [],
   "source": [
    "df_movies.describe(include = 'object').T"
   ]
  },
  {
   "cell_type": "code",
   "execution_count": null,
   "metadata": {
    "execution": {
     "iopub.execute_input": "2025-03-23T17:15:37.141839Z",
     "iopub.status.busy": "2025-03-23T17:15:37.141514Z",
     "iopub.status.idle": "2025-03-23T17:15:37.149233Z",
     "shell.execute_reply": "2025-03-23T17:15:37.14794Z",
     "shell.execute_reply.started": "2025-03-23T17:15:37.141813Z"
    },
    "id": "XJmY6K6oGENM"
   },
   "outputs": [],
   "source": [
    "df_movies.dtypes"
   ]
  },
  {
   "cell_type": "markdown",
   "metadata": {
    "id": "3adxkvIvGENN"
   },
   "source": [
    "# Formatting the Data types & Columns"
   ]
  },
  {
   "cell_type": "code",
   "execution_count": null,
   "metadata": {
    "execution": {
     "iopub.execute_input": "2025-03-23T17:15:49.130451Z",
     "iopub.status.busy": "2025-03-23T17:15:49.129939Z",
     "iopub.status.idle": "2025-03-23T17:15:49.29161Z",
     "shell.execute_reply": "2025-03-23T17:15:49.290605Z",
     "shell.execute_reply.started": "2025-03-23T17:15:49.130402Z"
    },
    "id": "d6qExKmuGENO"
   },
   "outputs": [],
   "source": [
    "df_movies['date_added'] = pd.to_datetime(df_movies['date_added'], format='mixed')\n",
    "df_movies['release_year'] = df_movies['release_year'].astype(int)\n",
    "print(df_movies['date_added'].dtype)\n",
    "print(df_movies['release_year'].dtype)"
   ]
  },
  {
   "cell_type": "code",
   "execution_count": null,
   "metadata": {
    "execution": {
     "iopub.execute_input": "2025-03-23T17:15:58.1452Z",
     "iopub.status.busy": "2025-03-23T17:15:58.144803Z",
     "iopub.status.idle": "2025-03-23T17:15:58.192424Z",
     "shell.execute_reply": "2025-03-23T17:15:58.191223Z",
     "shell.execute_reply.started": "2025-03-23T17:15:58.145166Z"
    },
    "id": "0q5twONHGENO"
   },
   "outputs": [],
   "source": [
    "df_movies['MonthWiseAdded'] = df_movies['date_added'].dt.strftime('%m-%Y')"
   ]
  },
  {
   "cell_type": "code",
   "execution_count": null,
   "metadata": {
    "execution": {
     "iopub.execute_input": "2025-03-23T17:16:04.762686Z",
     "iopub.status.busy": "2025-03-23T17:16:04.762351Z",
     "iopub.status.idle": "2025-03-23T17:16:04.77206Z",
     "shell.execute_reply": "2025-03-23T17:16:04.77087Z",
     "shell.execute_reply.started": "2025-03-23T17:16:04.76266Z"
    },
    "id": "RxmzuV3-GENQ"
   },
   "outputs": [],
   "source": [
    "df_movies.drop(columns= 'description', inplace= True)"
   ]
  },
  {
   "cell_type": "markdown",
   "metadata": {
    "id": "9FLfByHFGENQ"
   },
   "source": [
    "# Handling NaN / Null Values"
   ]
  },
  {
   "cell_type": "code",
   "execution_count": null,
   "metadata": {
    "execution": {
     "iopub.execute_input": "2025-03-23T17:16:06.767813Z",
     "iopub.status.busy": "2025-03-23T17:16:06.76749Z",
     "iopub.status.idle": "2025-03-23T17:16:06.781692Z",
     "shell.execute_reply": "2025-03-23T17:16:06.780667Z",
     "shell.execute_reply.started": "2025-03-23T17:16:06.767786Z"
    },
    "id": "08i0Kt2OGENQ"
   },
   "outputs": [],
   "source": [
    "np.round(df_movies.isnull().sum()/ len(df_movies)*100,2)"
   ]
  },
  {
   "cell_type": "markdown",
   "metadata": {
    "id": "HKoBVLjAGENQ"
   },
   "source": [
    "* Director column has about 30% of Null values\n",
    "* Cast, Country have about 10% each"
   ]
  },
  {
   "cell_type": "code",
   "execution_count": null,
   "metadata": {
    "execution": {
     "iopub.execute_input": "2025-03-23T17:16:08.833325Z",
     "iopub.status.busy": "2025-03-23T17:16:08.832821Z",
     "iopub.status.idle": "2025-03-23T17:16:08.852389Z",
     "shell.execute_reply": "2025-03-23T17:16:08.851034Z",
     "shell.execute_reply.started": "2025-03-23T17:16:08.833279Z"
    },
    "id": "V25rOGevGENQ"
   },
   "outputs": [],
   "source": [
    "print(f'Total NULL/ Nan values in the DataFrame are ---> {df_movies.isnull().sum(axis= 1).sum()}')"
   ]
  },
  {
   "cell_type": "code",
   "execution_count": null,
   "metadata": {
    "execution": {
     "iopub.execute_input": "2025-03-23T17:16:10.627199Z",
     "iopub.status.busy": "2025-03-23T17:16:10.626825Z",
     "iopub.status.idle": "2025-03-23T17:16:10.655374Z",
     "shell.execute_reply": "2025-03-23T17:16:10.654017Z",
     "shell.execute_reply.started": "2025-03-23T17:16:10.627163Z"
    },
    "id": "meqMRo09GENR"
   },
   "outputs": [],
   "source": [
    "# Handling Nan values the duration columns\n",
    "\n",
    "df_movies.iloc[[5541, 5794, 5813]] = df_movies[df_movies['duration'].isna()].ffill(axis = 1)\n",
    "df_movies.iloc[[5541, 5794, 5813]]"
   ]
  },
  {
   "cell_type": "code",
   "execution_count": null,
   "metadata": {
    "execution": {
     "iopub.execute_input": "2025-03-23T17:16:14.821338Z",
     "iopub.status.busy": "2025-03-23T17:16:14.82094Z",
     "iopub.status.idle": "2025-03-23T17:16:14.826871Z",
     "shell.execute_reply": "2025-03-23T17:16:14.825839Z",
     "shell.execute_reply.started": "2025-03-23T17:16:14.821303Z"
    },
    "id": "E3eUqREzGENR"
   },
   "outputs": [],
   "source": [
    "df_movies.iloc[[5541, 5794, 5813], df_movies.columns.get_loc('rating')] = 'Not Specified'"
   ]
  },
  {
   "cell_type": "code",
   "execution_count": null,
   "metadata": {
    "execution": {
     "iopub.execute_input": "2025-03-23T17:16:19.756229Z",
     "iopub.status.busy": "2025-03-23T17:16:19.75586Z",
     "iopub.status.idle": "2025-03-23T17:16:19.763374Z",
     "shell.execute_reply": "2025-03-23T17:16:19.762265Z",
     "shell.execute_reply.started": "2025-03-23T17:16:19.756201Z"
    },
    "id": "tLHxFCiNGENR"
   },
   "outputs": [],
   "source": [
    "df_movies['duration'].isna().sum()"
   ]
  },
  {
   "cell_type": "code",
   "execution_count": null,
   "metadata": {
    "execution": {
     "iopub.execute_input": "2025-03-23T17:16:21.531171Z",
     "iopub.status.busy": "2025-03-23T17:16:21.5307Z",
     "iopub.status.idle": "2025-03-23T17:16:21.541098Z",
     "shell.execute_reply": "2025-03-23T17:16:21.539989Z",
     "shell.execute_reply.started": "2025-03-23T17:16:21.531102Z"
    },
    "id": "QuS4YrLyGENR"
   },
   "outputs": [],
   "source": [
    "# Handling Nan values the rating columns as 'Not Specified'\n",
    "\n",
    "df_movies['rating'].fillna('Not Specified', inplace = True)\n",
    "df_movies['rating'].isna().sum()"
   ]
  },
  {
   "cell_type": "code",
   "execution_count": null,
   "metadata": {
    "execution": {
     "iopub.execute_input": "2025-03-23T17:16:23.963607Z",
     "iopub.status.busy": "2025-03-23T17:16:23.963261Z",
     "iopub.status.idle": "2025-03-23T17:16:23.977246Z",
     "shell.execute_reply": "2025-03-23T17:16:23.976215Z",
     "shell.execute_reply.started": "2025-03-23T17:16:23.963576Z"
    },
    "id": "dIJwl1yBGENR"
   },
   "outputs": [],
   "source": [
    "# Handling od NUll values in the Rating and  duration are imputated with appropriate words\n",
    "df_movies.isna().sum()"
   ]
  },
  {
   "cell_type": "markdown",
   "metadata": {
    "id": "eK2n5c0uGENR"
   },
   "source": [
    "# EDA"
   ]
  },
  {
   "cell_type": "code",
   "execution_count": null,
   "metadata": {
    "execution": {
     "iopub.execute_input": "2025-03-23T17:16:25.980244Z",
     "iopub.status.busy": "2025-03-23T17:16:25.979828Z",
     "iopub.status.idle": "2025-03-23T17:16:25.989548Z",
     "shell.execute_reply": "2025-03-23T17:16:25.988534Z",
     "shell.execute_reply.started": "2025-03-23T17:16:25.980206Z"
    },
    "id": "BtpL1ieQGENR"
   },
   "outputs": [],
   "source": [
    "df_directors = df_movies[['show_id', 'type', 'title', 'director']]\n",
    "df_actors = df_movies[['show_id', 'type', 'title', 'cast']]\n",
    "df_country = df_movies[['show_id', 'type', 'title','country']]\n",
    "df_genre = df_movies[['show_id', 'type', 'title', 'listed_in']]"
   ]
  },
  {
   "cell_type": "markdown",
   "metadata": {
    "id": "2REW78JWGENR"
   },
   "source": [
    "- Director Column"
   ]
  },
  {
   "cell_type": "code",
   "execution_count": null,
   "metadata": {
    "execution": {
     "iopub.execute_input": "2025-03-23T17:16:27.843356Z",
     "iopub.status.busy": "2025-03-23T17:16:27.842963Z",
     "iopub.status.idle": "2025-03-23T17:16:27.852661Z",
     "shell.execute_reply": "2025-03-23T17:16:27.851534Z",
     "shell.execute_reply.started": "2025-03-23T17:16:27.843324Z"
    },
    "id": "DrfzlCyKGENR"
   },
   "outputs": [],
   "source": [
    "# Dropped the rows with NaN values\n",
    "df_directors.dropna(inplace = True, ignore_index = True)"
   ]
  },
  {
   "cell_type": "code",
   "execution_count": null,
   "metadata": {
    "execution": {
     "iopub.execute_input": "2025-03-23T17:16:30.74075Z",
     "iopub.status.busy": "2025-03-23T17:16:30.740428Z",
     "iopub.status.idle": "2025-03-23T17:16:30.751174Z",
     "shell.execute_reply": "2025-03-23T17:16:30.750005Z",
     "shell.execute_reply.started": "2025-03-23T17:16:30.740726Z"
    },
    "id": "y-4M6_R-GENR"
   },
   "outputs": [],
   "source": [
    "df_directors['director'] = df_directors['director'].str.split(', ')"
   ]
  },
  {
   "cell_type": "code",
   "execution_count": null,
   "metadata": {
    "execution": {
     "iopub.execute_input": "2025-03-23T17:16:32.996289Z",
     "iopub.status.busy": "2025-03-23T17:16:32.995904Z",
     "iopub.status.idle": "2025-03-23T17:16:33.023268Z",
     "shell.execute_reply": "2025-03-23T17:16:33.022132Z",
     "shell.execute_reply.started": "2025-03-23T17:16:32.996255Z"
    },
    "id": "js6B73UtGENR"
   },
   "outputs": [],
   "source": [
    "df_directors = df_directors.explode('director')\n",
    "df_directors.reset_index()"
   ]
  },
  {
   "cell_type": "code",
   "execution_count": null,
   "metadata": {
    "execution": {
     "iopub.execute_input": "2025-03-23T17:16:36.74049Z",
     "iopub.status.busy": "2025-03-23T17:16:36.740069Z",
     "iopub.status.idle": "2025-03-23T17:16:36.750015Z",
     "shell.execute_reply": "2025-03-23T17:16:36.748998Z",
     "shell.execute_reply.started": "2025-03-23T17:16:36.740457Z"
    },
    "id": "mEAb9IWoGENR"
   },
   "outputs": [],
   "source": [
    "df_directors.head()"
   ]
  },
  {
   "cell_type": "code",
   "execution_count": null,
   "metadata": {
    "execution": {
     "iopub.execute_input": "2025-03-23T17:16:38.796588Z",
     "iopub.status.busy": "2025-03-23T17:16:38.796219Z",
     "iopub.status.idle": "2025-03-23T17:16:38.803968Z",
     "shell.execute_reply": "2025-03-23T17:16:38.803Z",
     "shell.execute_reply.started": "2025-03-23T17:16:38.79656Z"
    },
    "id": "oMhadsmIGENR"
   },
   "outputs": [],
   "source": [
    "df_directors['director'].nunique()"
   ]
  },
  {
   "cell_type": "markdown",
   "metadata": {
    "id": "upOEktswGENS"
   },
   "source": [
    "- Cast Column"
   ]
  },
  {
   "cell_type": "code",
   "execution_count": null,
   "metadata": {
    "execution": {
     "iopub.execute_input": "2025-03-23T17:16:40.72862Z",
     "iopub.status.busy": "2025-03-23T17:16:40.728288Z",
     "iopub.status.idle": "2025-03-23T17:16:40.739309Z",
     "shell.execute_reply": "2025-03-23T17:16:40.738064Z",
     "shell.execute_reply.started": "2025-03-23T17:16:40.728595Z"
    },
    "id": "KJEpjnAiGENS"
   },
   "outputs": [],
   "source": [
    "df_actors.dropna(inplace = True, ignore_index= True)"
   ]
  },
  {
   "cell_type": "code",
   "execution_count": null,
   "metadata": {
    "execution": {
     "iopub.execute_input": "2025-03-23T17:16:42.503336Z",
     "iopub.status.busy": "2025-03-23T17:16:42.502961Z",
     "iopub.status.idle": "2025-03-23T17:16:42.526483Z",
     "shell.execute_reply": "2025-03-23T17:16:42.52497Z",
     "shell.execute_reply.started": "2025-03-23T17:16:42.503304Z"
    },
    "id": "_lzNw4hkGENS"
   },
   "outputs": [],
   "source": [
    "df_actors['cast'] = df_actors['cast'].str.split(', ')"
   ]
  },
  {
   "cell_type": "code",
   "execution_count": null,
   "metadata": {
    "execution": {
     "iopub.execute_input": "2025-03-23T19:26:01.358626Z",
     "iopub.status.busy": "2025-03-23T19:26:01.358264Z",
     "iopub.status.idle": "2025-03-23T19:26:01.366827Z",
     "shell.execute_reply": "2025-03-23T19:26:01.365697Z",
     "shell.execute_reply.started": "2025-03-23T19:26:01.358597Z"
    },
    "id": "jwz-UVA3GENS"
   },
   "outputs": [],
   "source": [
    "df_actors = df_actors.explode('cast').reset_index()\n",
    "df_actors.drop(columns = ['level_0', 'index'], inplace= True)"
   ]
  },
  {
   "cell_type": "code",
   "execution_count": null,
   "metadata": {
    "execution": {
     "iopub.execute_input": "2025-03-23T19:26:03.437772Z",
     "iopub.status.busy": "2025-03-23T19:26:03.437447Z",
     "iopub.status.idle": "2025-03-23T19:26:03.447576Z",
     "shell.execute_reply": "2025-03-23T19:26:03.446289Z",
     "shell.execute_reply.started": "2025-03-23T19:26:03.437748Z"
    },
    "id": "KArwdceBGENS"
   },
   "outputs": [],
   "source": [
    "df_actors.head()"
   ]
  },
  {
   "cell_type": "code",
   "execution_count": null,
   "metadata": {
    "execution": {
     "iopub.execute_input": "2025-03-23T17:17:06.321128Z",
     "iopub.status.busy": "2025-03-23T17:17:06.320798Z",
     "iopub.status.idle": "2025-03-23T17:17:06.339814Z",
     "shell.execute_reply": "2025-03-23T17:17:06.338708Z",
     "shell.execute_reply.started": "2025-03-23T17:17:06.321082Z"
    },
    "id": "fu-Ch9HmGENS"
   },
   "outputs": [],
   "source": [
    "df_actors['cast'].nunique()"
   ]
  },
  {
   "cell_type": "markdown",
   "metadata": {
    "id": "xcfVe2JfGENS"
   },
   "source": [
    "* Country Column"
   ]
  },
  {
   "cell_type": "code",
   "execution_count": null,
   "metadata": {
    "execution": {
     "iopub.execute_input": "2025-03-23T17:17:08.267318Z",
     "iopub.status.busy": "2025-03-23T17:17:08.266871Z",
     "iopub.status.idle": "2025-03-23T17:17:08.310904Z",
     "shell.execute_reply": "2025-03-23T17:17:08.309828Z",
     "shell.execute_reply.started": "2025-03-23T17:17:08.26728Z"
    },
    "id": "mV3iaqinGENS"
   },
   "outputs": [],
   "source": [
    "df_country.dropna(inplace= True, ignore_index = True)\n",
    "df_country['country'] = df_country['country'].str.split(', ')\n",
    "df_country = df_country.explode('country').reset_index()\n",
    "df_country.drop(columns = 'index', inplace = True)\n",
    "df_country.head()"
   ]
  },
  {
   "cell_type": "code",
   "execution_count": null,
   "metadata": {
    "execution": {
     "iopub.execute_input": "2025-03-23T17:17:10.669267Z",
     "iopub.status.busy": "2025-03-23T17:17:10.668892Z",
     "iopub.status.idle": "2025-03-23T17:17:10.676277Z",
     "shell.execute_reply": "2025-03-23T17:17:10.675204Z",
     "shell.execute_reply.started": "2025-03-23T17:17:10.669234Z"
    },
    "id": "zX3JOd6NGENS"
   },
   "outputs": [],
   "source": [
    "df_country['country'].nunique()"
   ]
  },
  {
   "cell_type": "markdown",
   "metadata": {
    "id": "eg9pUCoRGENS"
   },
   "source": [
    "- Genre Column"
   ]
  },
  {
   "cell_type": "code",
   "execution_count": null,
   "metadata": {
    "execution": {
     "iopub.execute_input": "2025-03-23T17:17:12.490657Z",
     "iopub.status.busy": "2025-03-23T17:17:12.490282Z",
     "iopub.status.idle": "2025-03-23T17:17:12.527191Z",
     "shell.execute_reply": "2025-03-23T17:17:12.525984Z",
     "shell.execute_reply.started": "2025-03-23T17:17:12.490622Z"
    },
    "id": "9R-bGzSdGENY"
   },
   "outputs": [],
   "source": [
    "df_genre.dropna(inplace = True, ignore_index= True)\n",
    "df_genre['listed_in'] = df_genre['listed_in'].str.split(', ')\n",
    "df_genre = df_genre.explode('listed_in').reset_index()\n",
    "df_genre.drop(columns = 'index', inplace = True)\n",
    "df_genre.head()"
   ]
  },
  {
   "cell_type": "code",
   "execution_count": null,
   "metadata": {
    "execution": {
     "iopub.execute_input": "2025-03-23T17:17:15.559931Z",
     "iopub.status.busy": "2025-03-23T17:17:15.559609Z",
     "iopub.status.idle": "2025-03-23T17:17:15.567762Z",
     "shell.execute_reply": "2025-03-23T17:17:15.566884Z",
     "shell.execute_reply.started": "2025-03-23T17:17:15.559906Z"
    },
    "id": "Xg9689mPGENZ"
   },
   "outputs": [],
   "source": [
    "df_genre['listed_in'].nunique()"
   ]
  },
  {
   "cell_type": "markdown",
   "metadata": {
    "id": "h1tNxDwHGENZ"
   },
   "source": [
    "# Insights:\n",
    "1. There are 127 countries\n",
    "2. There are 36,439 actors\n",
    "3. There are 4993 unique Directors\n",
    "4. There Movie and TV Shows in type column\n",
    "5. There are 42 Differnt of Genre"
   ]
  },
  {
   "cell_type": "code",
   "execution_count": null,
   "metadata": {
    "execution": {
     "iopub.execute_input": "2025-03-23T17:17:18.426942Z",
     "iopub.status.busy": "2025-03-23T17:17:18.426607Z",
     "iopub.status.idle": "2025-03-23T17:17:18.43302Z",
     "shell.execute_reply": "2025-03-23T17:17:18.432037Z",
     "shell.execute_reply.started": "2025-03-23T17:17:18.426915Z"
    },
    "id": "45STQtD8GENZ"
   },
   "outputs": [],
   "source": [
    "df_duration = df_movies[['show_id', 'type', 'title','duration']]"
   ]
  },
  {
   "cell_type": "code",
   "execution_count": null,
   "metadata": {
    "execution": {
     "iopub.execute_input": "2025-03-23T17:17:20.157372Z",
     "iopub.status.busy": "2025-03-23T17:17:20.156886Z",
     "iopub.status.idle": "2025-03-23T17:17:20.182692Z",
     "shell.execute_reply": "2025-03-23T17:17:20.181564Z",
     "shell.execute_reply.started": "2025-03-23T17:17:20.157326Z"
    },
    "id": "Uun6ZkJDGENZ"
   },
   "outputs": [],
   "source": [
    "df_duration['movie/webseries']= df_duration['duration'].str.split(\" \", expand = True)[1]\n",
    "df_duration['movie/webseries'] = df_duration['movie/webseries'].apply(lambda x:x.strip())\n"
   ]
  },
  {
   "cell_type": "code",
   "execution_count": null,
   "metadata": {
    "execution": {
     "iopub.execute_input": "2025-03-23T17:17:22.2834Z",
     "iopub.status.busy": "2025-03-23T17:17:22.283007Z",
     "iopub.status.idle": "2025-03-23T17:17:22.293761Z",
     "shell.execute_reply": "2025-03-23T17:17:22.292732Z",
     "shell.execute_reply.started": "2025-03-23T17:17:22.283367Z"
    },
    "id": "HJhThF9oGENZ"
   },
   "outputs": [],
   "source": [
    "df_duration['movie/webseries'].replace({'min':'Movies','Seasons': 'Web Series','Season': 'Web Series' }, inplace = True)"
   ]
  },
  {
   "cell_type": "code",
   "execution_count": null,
   "metadata": {
    "execution": {
     "iopub.execute_input": "2025-03-23T17:17:24.370317Z",
     "iopub.status.busy": "2025-03-23T17:17:24.369911Z",
     "iopub.status.idle": "2025-03-23T17:17:24.380438Z",
     "shell.execute_reply": "2025-03-23T17:17:24.379395Z",
     "shell.execute_reply.started": "2025-03-23T17:17:24.370283Z"
    },
    "id": "JEUuQf6jGENZ"
   },
   "outputs": [],
   "source": [
    "df_duration.head()"
   ]
  },
  {
   "cell_type": "code",
   "execution_count": null,
   "metadata": {
    "execution": {
     "iopub.execute_input": "2025-03-23T17:17:26.633707Z",
     "iopub.status.busy": "2025-03-23T17:17:26.633305Z",
     "iopub.status.idle": "2025-03-23T17:17:26.64214Z",
     "shell.execute_reply": "2025-03-23T17:17:26.641061Z",
     "shell.execute_reply.started": "2025-03-23T17:17:26.633668Z"
    },
    "id": "8wNjkdQGGENZ"
   },
   "outputs": [],
   "source": [
    "df_duration['movie/webseries'].value_counts()"
   ]
  },
  {
   "cell_type": "markdown",
   "metadata": {
    "id": "moSNal5fGENZ"
   },
   "source": [
    "# EDA Univariate Analysis"
   ]
  },
  {
   "cell_type": "code",
   "execution_count": null,
   "metadata": {
    "execution": {
     "iopub.execute_input": "2025-03-23T17:17:28.414651Z",
     "iopub.status.busy": "2025-03-23T17:17:28.414272Z",
     "iopub.status.idle": "2025-03-23T17:17:28.420692Z",
     "shell.execute_reply": "2025-03-23T17:17:28.419721Z",
     "shell.execute_reply.started": "2025-03-23T17:17:28.414619Z"
    },
    "id": "NWdRELWNGENZ"
   },
   "outputs": [],
   "source": [
    "df_movies.columns"
   ]
  },
  {
   "cell_type": "code",
   "execution_count": null,
   "metadata": {
    "execution": {
     "iopub.execute_input": "2025-03-23T17:17:30.747274Z",
     "iopub.status.busy": "2025-03-23T17:17:30.746874Z",
     "iopub.status.idle": "2025-03-23T17:17:30.755207Z",
     "shell.execute_reply": "2025-03-23T17:17:30.754048Z",
     "shell.execute_reply.started": "2025-03-23T17:17:30.747238Z"
    },
    "id": "nTO-OBDZGENZ"
   },
   "outputs": [],
   "source": [
    "df_movies['type'].value_counts()"
   ]
  },
  {
   "cell_type": "code",
   "execution_count": null,
   "metadata": {
    "execution": {
     "iopub.execute_input": "2025-03-23T17:17:32.41533Z",
     "iopub.status.busy": "2025-03-23T17:17:32.414912Z",
     "iopub.status.idle": "2025-03-23T17:17:32.532417Z",
     "shell.execute_reply": "2025-03-23T17:17:32.531341Z",
     "shell.execute_reply.started": "2025-03-23T17:17:32.415289Z"
    },
    "id": "UUlraTxzGENZ"
   },
   "outputs": [],
   "source": [
    "np.round(df_movies['type'].value_counts(normalize = True)*100,2).plot(kind= 'pie',\n",
    "                                                                     labels = df_movies['type'],\n",
    "                                                                     autopct='%1.2f%%',\n",
    "                                                                     title= \"Proportation of Movies/ TV Shows\")\n",
    "plt.show()"
   ]
  },
  {
   "cell_type": "code",
   "execution_count": null,
   "metadata": {
    "execution": {
     "iopub.execute_input": "2025-03-23T17:17:46.141672Z",
     "iopub.status.busy": "2025-03-23T17:17:46.141313Z",
     "iopub.status.idle": "2025-03-23T17:17:46.160236Z",
     "shell.execute_reply": "2025-03-23T17:17:46.159037Z",
     "shell.execute_reply.started": "2025-03-23T17:17:46.141637Z"
    },
    "id": "MjH6USK0GENZ"
   },
   "outputs": [],
   "source": [
    "dir_count = df_directors.groupby('director')['show_id'].agg(['count']).sort_values('count', ascending = False)[:20].reset_index()\n",
    "dir_count"
   ]
  },
  {
   "cell_type": "code",
   "execution_count": null,
   "metadata": {
    "execution": {
     "iopub.execute_input": "2025-03-23T17:17:55.359104Z",
     "iopub.status.busy": "2025-03-23T17:17:55.358749Z",
     "iopub.status.idle": "2025-03-23T17:17:55.819669Z",
     "shell.execute_reply": "2025-03-23T17:17:55.81856Z",
     "shell.execute_reply.started": "2025-03-23T17:17:55.359071Z"
    },
    "id": "_IaULQsDGENZ"
   },
   "outputs": [],
   "source": [
    "plt.figure(figsize=(15,8))\n",
    "sns.barplot(data = dir_count, x = dir_count['director'], y= dir_count['count'])\n",
    "plt.title('Count of movies per Director')\n",
    "plt.xticks(rotation = 90)\n",
    "plt.show()"
   ]
  },
  {
   "cell_type": "code",
   "execution_count": null,
   "metadata": {
    "execution": {
     "iopub.execute_input": "2025-03-23T17:17:59.196057Z",
     "iopub.status.busy": "2025-03-23T17:17:59.195685Z",
     "iopub.status.idle": "2025-03-23T17:17:59.264944Z",
     "shell.execute_reply": "2025-03-23T17:17:59.263901Z",
     "shell.execute_reply.started": "2025-03-23T17:17:59.196022Z"
    },
    "id": "BqxZd3FzGENZ"
   },
   "outputs": [],
   "source": [
    "actor_acted = df_actors.groupby('cast')['show_id'].agg('count').reset_index().sort_values('show_id', ascending = False)[:20]\n",
    "actor_acted"
   ]
  },
  {
   "cell_type": "code",
   "execution_count": null,
   "metadata": {
    "execution": {
     "iopub.execute_input": "2025-03-23T17:18:01.691476Z",
     "iopub.status.busy": "2025-03-23T17:18:01.691053Z",
     "iopub.status.idle": "2025-03-23T17:18:02.07483Z",
     "shell.execute_reply": "2025-03-23T17:18:02.073611Z",
     "shell.execute_reply.started": "2025-03-23T17:18:01.691446Z"
    },
    "id": "3wWF16VgGENZ"
   },
   "outputs": [],
   "source": [
    "plt.figure(figsize=(18,8))\n",
    "sns.barplot(data = actor_acted, x = actor_acted['cast'], y= actor_acted['show_id'])\n",
    "plt.title('Count of Movies per Actor')\n",
    "plt.ylabel('Count of Movies')\n",
    "plt.xlabel('Actors')\n",
    "plt.xticks(rotation = 90)\n",
    "plt.show()"
   ]
  },
  {
   "cell_type": "code",
   "execution_count": null,
   "metadata": {
    "execution": {
     "iopub.execute_input": "2025-03-23T17:18:04.543918Z",
     "iopub.status.busy": "2025-03-23T17:18:04.543563Z",
     "iopub.status.idle": "2025-03-23T17:18:04.554845Z",
     "shell.execute_reply": "2025-03-23T17:18:04.553736Z",
     "shell.execute_reply.started": "2025-03-23T17:18:04.543886Z"
    },
    "id": "DmCAead9GENa"
   },
   "outputs": [],
   "source": [
    "movie_genre = df_genre.groupby('listed_in')['show_id'].agg('count').reset_index().sort_values('show_id', ascending = False)\n",
    "top_genre = movie_genre.head(20)\n",
    "bottom_genre = movie_genre.tail(10)"
   ]
  },
  {
   "cell_type": "code",
   "execution_count": null,
   "metadata": {
    "execution": {
     "iopub.execute_input": "2025-03-23T17:18:06.244396Z",
     "iopub.status.busy": "2025-03-23T17:18:06.243979Z",
     "iopub.status.idle": "2025-03-23T17:18:06.619605Z",
     "shell.execute_reply": "2025-03-23T17:18:06.618534Z",
     "shell.execute_reply.started": "2025-03-23T17:18:06.244363Z"
    },
    "id": "6zcQYxv9GENa"
   },
   "outputs": [],
   "source": [
    "plt.figure(figsize=(18,8))\n",
    "sns.barplot(data = top_genre, x = top_genre['listed_in'], y= top_genre['show_id'])\n",
    "plt.title('Count of Top Genres')\n",
    "plt.ylabel('Count of Movies')\n",
    "plt.xlabel('Gnere')\n",
    "plt.xticks(rotation = 90)\n",
    "plt.show()"
   ]
  },
  {
   "cell_type": "code",
   "execution_count": null,
   "metadata": {
    "execution": {
     "iopub.execute_input": "2025-03-23T17:18:10.659999Z",
     "iopub.status.busy": "2025-03-23T17:18:10.659668Z",
     "iopub.status.idle": "2025-03-23T17:18:10.967233Z",
     "shell.execute_reply": "2025-03-23T17:18:10.966144Z",
     "shell.execute_reply.started": "2025-03-23T17:18:10.659973Z"
    },
    "id": "fwWG8A44GENa"
   },
   "outputs": [],
   "source": [
    "plt.figure(figsize=(18,8))\n",
    "sns.barplot(data = bottom_genre, x = bottom_genre['listed_in'], y= bottom_genre['show_id'])\n",
    "plt.title('Count of Low listed Genres')\n",
    "plt.ylabel('Count of Movies')\n",
    "plt.xlabel('Gnere')\n",
    "plt.xticks(rotation = 90)\n",
    "plt.show()"
   ]
  },
  {
   "cell_type": "code",
   "execution_count": null,
   "metadata": {
    "execution": {
     "iopub.execute_input": "2025-03-23T17:18:16.067875Z",
     "iopub.status.busy": "2025-03-23T17:18:16.067534Z",
     "iopub.status.idle": "2025-03-23T17:18:16.29398Z",
     "shell.execute_reply": "2025-03-23T17:18:16.292858Z",
     "shell.execute_reply.started": "2025-03-23T17:18:16.067846Z"
    },
    "id": "nb6f0z5GGENa"
   },
   "outputs": [],
   "source": [
    "df_movies['release_year'].value_counts()..plot(kind = 'line'\n",
    "                                             , legend = True\n",
    "                                             ,figsize=(15, 8)\n",
    "                                             , grid=True)\n",
    "plt.show()"
   ]
  },
  {
   "cell_type": "markdown",
   "metadata": {
    "id": "IFrk7TIxGENa"
   },
   "source": [
    "# EDA BIVARIATE ANALYSIS"
   ]
  },
  {
   "cell_type": "code",
   "execution_count": null,
   "metadata": {
    "execution": {
     "iopub.execute_input": "2025-03-23T17:54:58.088625Z",
     "iopub.status.busy": "2025-03-23T17:54:58.088273Z",
     "iopub.status.idle": "2025-03-23T17:54:58.115454Z",
     "shell.execute_reply": "2025-03-23T17:54:58.114244Z",
     "shell.execute_reply.started": "2025-03-23T17:54:58.088597Z"
    },
    "id": "zgsKJji3GENa"
   },
   "outputs": [],
   "source": [
    "movies_type = df_directors.merge(df_movies, on='show_id').groupby(['release_year', 'type_x'])['show_id'].agg('count').reset_index()\n",
    "movies_type.columns = ['release_year', 'type', 'count']\n",
    "movies_type.head()"
   ]
  },
  {
   "cell_type": "code",
   "execution_count": null,
   "metadata": {
    "execution": {
     "iopub.execute_input": "2025-03-23T17:56:31.417185Z",
     "iopub.status.busy": "2025-03-23T17:56:31.41681Z",
     "iopub.status.idle": "2025-03-23T17:56:31.436816Z",
     "shell.execute_reply": "2025-03-23T17:56:31.435611Z",
     "shell.execute_reply.started": "2025-03-23T17:56:31.417154Z"
    },
    "id": "YQobiBWbGENa"
   },
   "outputs": [],
   "source": [
    "movies_type.pivot(index= ['release_year'], columns= ['type'], values= ['count']).reset_index().head(15)"
   ]
  },
  {
   "cell_type": "code",
   "execution_count": null,
   "metadata": {
    "execution": {
     "iopub.execute_input": "2025-03-23T17:56:41.459664Z",
     "iopub.status.busy": "2025-03-23T17:56:41.459299Z",
     "iopub.status.idle": "2025-03-23T17:56:41.470571Z",
     "shell.execute_reply": "2025-03-23T17:56:41.469529Z",
     "shell.execute_reply.started": "2025-03-23T17:56:41.459632Z"
    },
    "id": "pwpn-wV3GENa"
   },
   "outputs": [],
   "source": [
    "movies_type"
   ]
  },
  {
   "cell_type": "code",
   "execution_count": null,
   "metadata": {
    "execution": {
     "iopub.execute_input": "2025-03-23T17:58:33.610859Z",
     "iopub.status.busy": "2025-03-23T17:58:33.610529Z",
     "iopub.status.idle": "2025-03-23T17:58:33.913249Z",
     "shell.execute_reply": "2025-03-23T17:58:33.912132Z",
     "shell.execute_reply.started": "2025-03-23T17:58:33.61083Z"
    },
    "id": "9-Vh2X26GENa"
   },
   "outputs": [],
   "source": [
    "plt.figure(figsize=(15,8))\n",
    "sns.lineplot(data = movies_type, x= 'release_year', y='count', hue='type')\n",
    "plt.title('Year wise released on Netflix')\n",
    "plt.ylabel('Count')\n",
    "plt.show()"
   ]
  },
  {
   "cell_type": "markdown",
   "metadata": {
    "id": "hB-xgzQbGENa"
   },
   "source": [
    "* movies after 2015 relased on OTT are peak\n",
    "* the trend Drastically showing down trend after 2020 due to Pendamic\n",
    "* The TV Shows are surged during the down trend of movies"
   ]
  },
  {
   "cell_type": "code",
   "execution_count": null,
   "metadata": {
    "execution": {
     "iopub.execute_input": "2025-03-23T18:52:02.37326Z",
     "iopub.status.busy": "2025-03-23T18:52:02.372877Z",
     "iopub.status.idle": "2025-03-23T18:52:02.381479Z",
     "shell.execute_reply": "2025-03-23T18:52:02.380516Z",
     "shell.execute_reply.started": "2025-03-23T18:52:02.373226Z"
    },
    "id": "yU2zi1tWGENa"
   },
   "outputs": [],
   "source": [
    "top_country = df_country['country'].value_counts().head(15).index\n",
    "top_country"
   ]
  },
  {
   "cell_type": "code",
   "execution_count": null,
   "metadata": {
    "execution": {
     "iopub.execute_input": "2025-03-23T18:55:15.016818Z",
     "iopub.status.busy": "2025-03-23T18:55:15.016505Z",
     "iopub.status.idle": "2025-03-23T18:55:15.03499Z",
     "shell.execute_reply": "2025-03-23T18:55:15.034175Z",
     "shell.execute_reply.started": "2025-03-23T18:55:15.016793Z"
    },
    "id": "WXCKCxdxGENa"
   },
   "outputs": [],
   "source": [
    "x = df_country[df_country['country'].isin(top_country)].groupby(['country', 'type'])['show_id'].count().reset_index()\n",
    "x"
   ]
  },
  {
   "cell_type": "code",
   "execution_count": null,
   "metadata": {
    "execution": {
     "iopub.execute_input": "2025-03-23T18:58:45.437665Z",
     "iopub.status.busy": "2025-03-23T18:58:45.437265Z",
     "iopub.status.idle": "2025-03-23T18:58:45.849857Z",
     "shell.execute_reply": "2025-03-23T18:58:45.848737Z",
     "shell.execute_reply.started": "2025-03-23T18:58:45.437635Z"
    },
    "id": "-ZdVq2eCGENa"
   },
   "outputs": [],
   "source": [
    "plt.figure(figsize=(15,8))\n",
    "sns.barplot(data=x, x='country',y='show_id', hue='type')\n",
    "plt.title('Country Wise Type of content on OTT plotform')\n",
    "plt.xlabel('country')\n",
    "plt.ylabel('count')\n",
    "plt.xticks(rotation= 90)\n",
    "plt.show()"
   ]
  },
  {
   "cell_type": "markdown",
   "metadata": {
    "id": "3-cPSUYIGENa"
   },
   "source": [
    "* United States tops in type of content on OTT\n",
    "* United States, India, Uk have more content\n",
    "* Hong kong, Egypt have less content of TV shows"
   ]
  },
  {
   "cell_type": "code",
   "execution_count": null,
   "metadata": {
    "execution": {
     "iopub.execute_input": "2025-03-23T20:01:23.236002Z",
     "iopub.status.busy": "2025-03-23T20:01:23.235693Z",
     "iopub.status.idle": "2025-03-23T20:01:23.24236Z",
     "shell.execute_reply": "2025-03-23T20:01:23.241363Z",
     "shell.execute_reply.started": "2025-03-23T20:01:23.235977Z"
    },
    "id": "lXHBEd7XGENa"
   },
   "outputs": [],
   "source": [
    "top_countries = df_country['country'].value_counts().head(10).index"
   ]
  },
  {
   "cell_type": "code",
   "execution_count": null,
   "metadata": {
    "execution": {
     "iopub.execute_input": "2025-03-23T20:01:25.365783Z",
     "iopub.status.busy": "2025-03-23T20:01:25.365433Z",
     "iopub.status.idle": "2025-03-23T20:01:25.384404Z",
     "shell.execute_reply": "2025-03-23T20:01:25.383234Z",
     "shell.execute_reply.started": "2025-03-23T20:01:25.365755Z"
    },
    "id": "rcysR08sGENa"
   },
   "outputs": [],
   "source": [
    "country_data = df_country.merge(df_genre, on='show_id')[['show_id', 'country', 'listed_in']]"
   ]
  },
  {
   "cell_type": "code",
   "execution_count": null,
   "metadata": {
    "execution": {
     "iopub.execute_input": "2025-03-23T20:02:01.087938Z",
     "iopub.status.busy": "2025-03-23T20:02:01.087626Z",
     "iopub.status.idle": "2025-03-23T20:02:01.110269Z",
     "shell.execute_reply": "2025-03-23T20:02:01.109289Z",
     "shell.execute_reply.started": "2025-03-23T20:02:01.087914Z"
    },
    "id": "8ihs6Gu-GENb"
   },
   "outputs": [],
   "source": [
    "genre_countries = country_data[country_data['country'].isin(top_countries)].groupby(['listed_in', 'country'])['show_id'].count().reset_index()\n",
    "genre_countries"
   ]
  },
  {
   "cell_type": "code",
   "execution_count": null,
   "metadata": {
    "execution": {
     "iopub.execute_input": "2025-03-23T20:02:17.934608Z",
     "iopub.status.busy": "2025-03-23T20:02:17.934258Z",
     "iopub.status.idle": "2025-03-23T20:02:17.959225Z",
     "shell.execute_reply": "2025-03-23T20:02:17.958313Z",
     "shell.execute_reply.started": "2025-03-23T20:02:17.93458Z"
    },
    "id": "0qv_R5IhGENb"
   },
   "outputs": [],
   "source": [
    "genre_countries = genre_countries.pivot(index=['listed_in'], columns=['country'], values=['show_id'])\n",
    "genre_countries.head()"
   ]
  },
  {
   "cell_type": "code",
   "execution_count": null,
   "metadata": {
    "execution": {
     "iopub.execute_input": "2025-03-23T22:01:50.414012Z",
     "iopub.status.busy": "2025-03-23T22:01:50.413611Z",
     "iopub.status.idle": "2025-03-23T22:01:51.857095Z",
     "shell.execute_reply": "2025-03-23T22:01:51.856002Z",
     "shell.execute_reply.started": "2025-03-23T22:01:50.413978Z"
    },
    "id": "gjFy34brGENb"
   },
   "outputs": [],
   "source": [
    "plt.figure(figsize = (12,10))\n",
    "sns.heatmap(data=genre_countries,annot = True , fmt=\".0f\" , vmin = 20 , vmax = 250)\n",
    "plt.xlabel('Countries' , fontsize = 12)\n",
    "plt.ylabel('Genres' , fontsize = 12)\n",
    "plt.title('Countries V/s Genres' , fontsize = 12)\n",
    "plt.show()"
   ]
  },
  {
   "cell_type": "code",
   "execution_count": null,
   "metadata": {
    "execution": {
     "iopub.execute_input": "2025-03-23T22:01:56.688639Z",
     "iopub.status.busy": "2025-03-23T22:01:56.688286Z",
     "iopub.status.idle": "2025-03-23T22:01:57.980846Z",
     "shell.execute_reply": "2025-03-23T22:01:57.979476Z",
     "shell.execute_reply.started": "2025-03-23T22:01:56.68861Z"
    },
    "id": "bviROBGjGENb"
   },
   "outputs": [],
   "source": [
    "plt.figure(figsize = (12,10))\n",
    "sns.heatmap(data=genre_countries,annot = True , fmt=\".0f\" , vmin = 20 , vmax = 250)\n",
    "plt.xlabel('Countries' , fontsize = 12)\n",
    "plt.ylabel('Genres' , fontsize = 12)\n",
    "plt.title('Countries V/s Genres' , fontsize = 12)\n",
    "plt.show()"
   ]
  },
  {
   "cell_type": "code",
   "execution_count": null,
   "metadata": {
    "execution": {
     "iopub.execute_input": "2025-03-23T22:02:16.635768Z",
     "iopub.status.busy": "2025-03-23T22:02:16.635293Z",
     "iopub.status.idle": "2025-03-23T22:02:16.647969Z",
     "shell.execute_reply": "2025-03-23T22:02:16.646403Z",
     "shell.execute_reply.started": "2025-03-23T22:02:16.63573Z"
    },
    "id": "9iKonxnSGENb"
   },
   "outputs": [],
   "source": [
    "x = df_country['country'].value_counts().head(20).index\n",
    "x"
   ]
  },
  {
   "cell_type": "code",
   "execution_count": null,
   "metadata": {
    "execution": {
     "iopub.execute_input": "2025-03-23T22:02:25.664761Z",
     "iopub.status.busy": "2025-03-23T22:02:25.663955Z",
     "iopub.status.idle": "2025-03-23T22:02:25.683712Z",
     "shell.execute_reply": "2025-03-23T22:02:25.682604Z",
     "shell.execute_reply.started": "2025-03-23T22:02:25.664719Z"
    },
    "id": "Qo001z_vGENb"
   },
   "outputs": [],
   "source": [
    "y = df_movies[df_movies['country'].isin(x)].groupby(['country', 'rating'])['show_id'].count().reset_index()\n",
    "y = y.pivot(index=['rating'], columns='country', values='show_id')"
   ]
  },
  {
   "cell_type": "code",
   "execution_count": null,
   "metadata": {
    "execution": {
     "iopub.execute_input": "2025-03-23T22:02:34.489728Z",
     "iopub.status.busy": "2025-03-23T22:02:34.489361Z",
     "iopub.status.idle": "2025-03-23T22:02:35.210772Z",
     "shell.execute_reply": "2025-03-23T22:02:35.209689Z",
     "shell.execute_reply.started": "2025-03-23T22:02:34.489699Z"
    },
    "id": "w7TQQZbTGENb"
   },
   "outputs": [],
   "source": [
    "plt.figure(figsize = (12,10))\n",
    "sns.heatmap(data= y,annot = True , fmt=\".0f\" , vmin = 20 , vmax = 250)\n",
    "plt.xlabel('Countries' , fontsize = 12)\n",
    "plt.ylabel('Genres' , fontsize = 12)\n",
    "plt.title('Countries V/s Rating' , fontsize = 12)\n",
    "plt.show()"
   ]
  },
  {
   "cell_type": "markdown",
   "metadata": {
    "id": "3A1uDzyeGENb"
   },
   "source": [
    "Overall, Netflix has an large amount of adult content across all countries (TV-MA & TV-14).\n",
    "* India also has many titles rated TV-PG, other than TV-MA & TV-14.\n",
    "* Only US, Canada, UK, France and Japan have content for young audiences (TV-Y & TV-Y7).\n",
    "* There is scarce content for general audience (TV-G & G) across all countries except US."
   ]
  },
  {
   "cell_type": "code",
   "execution_count": null,
   "metadata": {
    "execution": {
     "iopub.execute_input": "2025-03-23T22:03:02.512283Z",
     "iopub.status.busy": "2025-03-23T22:03:02.511877Z",
     "iopub.status.idle": "2025-03-23T22:03:02.522956Z",
     "shell.execute_reply": "2025-03-23T22:03:02.521857Z",
     "shell.execute_reply.started": "2025-03-23T22:03:02.512249Z"
    },
    "id": "208q9WQkGENb"
   },
   "outputs": [],
   "source": [
    "top_directors = df_directors['director'].value_counts().head(5).index\n",
    "top_directors"
   ]
  },
  {
   "cell_type": "code",
   "execution_count": null,
   "metadata": {
    "execution": {
     "iopub.execute_input": "2025-03-23T22:03:11.09078Z",
     "iopub.status.busy": "2025-03-23T22:03:11.09038Z",
     "iopub.status.idle": "2025-03-23T22:03:11.098492Z",
     "shell.execute_reply": "2025-03-23T22:03:11.097219Z",
     "shell.execute_reply.started": "2025-03-23T22:03:11.090752Z"
    },
    "id": "hySH0aClGENb"
   },
   "outputs": [],
   "source": [
    "genre_index = df_genre['listed_in'].value_counts().head(10).index"
   ]
  },
  {
   "cell_type": "code",
   "execution_count": null,
   "metadata": {
    "execution": {
     "iopub.execute_input": "2025-03-23T22:03:18.250057Z",
     "iopub.status.busy": "2025-03-23T22:03:18.249617Z",
     "iopub.status.idle": "2025-03-23T22:03:18.301742Z",
     "shell.execute_reply": "2025-03-23T22:03:18.30063Z",
     "shell.execute_reply.started": "2025-03-23T22:03:18.250019Z"
    },
    "id": "ZCcphDHKGENb"
   },
   "outputs": [],
   "source": [
    "director_listedin = df_directors.merge(df_genre, on='show_id')[['show_id', 'director', 'listed_in']].groupby(['listed_in','director'])['show_id'].count().reset_index()\n",
    "director_listedin.head()"
   ]
  },
  {
   "cell_type": "code",
   "execution_count": null,
   "metadata": {
    "execution": {
     "iopub.execute_input": "2025-03-23T22:03:26.640997Z",
     "iopub.status.busy": "2025-03-23T22:03:26.640666Z",
     "iopub.status.idle": "2025-03-23T22:03:26.707661Z",
     "shell.execute_reply": "2025-03-23T22:03:26.706546Z",
     "shell.execute_reply.started": "2025-03-23T22:03:26.64097Z"
    },
    "id": "bMkAcD0SGENb"
   },
   "outputs": [],
   "source": [
    "for genre in genre_index:\n",
    "    top_n = director_listedin[director_listedin['listed_in'] == genre].reset_index().sort_values('show_id', ascending=False)\n",
    "    print(top_n)"
   ]
  },
  {
   "cell_type": "code",
   "execution_count": null,
   "metadata": {
    "execution": {
     "iopub.execute_input": "2025-03-23T22:03:38.576122Z",
     "iopub.status.busy": "2025-03-23T22:03:38.575782Z",
     "iopub.status.idle": "2025-03-23T22:03:38.675855Z",
     "shell.execute_reply": "2025-03-23T22:03:38.674791Z",
     "shell.execute_reply.started": "2025-03-23T22:03:38.576073Z"
    },
    "id": "ZeEgvKhgGENb"
   },
   "outputs": [],
   "source": [
    "dir_actor = df_directors.merge(df_actors, on='show_id')[['show_id', 'director', 'cast']].groupby(['director', 'cast'])['show_id'].count().reset_index().sort_values('show_id', ascending=False)"
   ]
  },
  {
   "cell_type": "code",
   "execution_count": null,
   "metadata": {
    "execution": {
     "iopub.execute_input": "2025-03-23T22:03:48.87505Z",
     "iopub.status.busy": "2025-03-23T22:03:48.87469Z",
     "iopub.status.idle": "2025-03-23T22:03:48.892582Z",
     "shell.execute_reply": "2025-03-23T22:03:48.891439Z",
     "shell.execute_reply.started": "2025-03-23T22:03:48.875018Z"
    },
    "id": "bogDntHRGENb"
   },
   "outputs": [],
   "source": [
    "dir_actor[dir_actor['director'].isin(top_directors)].reset_index().drop(columns='index')"
   ]
  }
 ],
 "metadata": {
  "colab": {
   "name": "Netflix_EDA",
   "provenance": []
  },
  "kaggle": {
   "accelerator": "none",
   "dataSources": [
    {
     "datasetId": 434238,
     "sourceId": 2654038,
     "sourceType": "datasetVersion"
    }
   ],
   "dockerImageVersionId": 30918,
   "isGpuEnabled": false,
   "isInternetEnabled": true,
   "language": "python",
   "sourceType": "notebook"
  },
  "kernelspec": {
   "display_name": "Python 3 (ipykernel)",
   "language": "python",
   "name": "python3"
  },
  "language_info": {
   "codemirror_mode": {
    "name": "ipython",
    "version": 3
   },
   "file_extension": ".py",
   "mimetype": "text/x-python",
   "name": "python",
   "nbconvert_exporter": "python",
   "pygments_lexer": "ipython3",
   "version": "3.11.7"
  }
 },
 "nbformat": 4,
 "nbformat_minor": 4
}
